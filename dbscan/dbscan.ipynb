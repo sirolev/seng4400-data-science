{
 "cells": [
  {
   "cell_type": "code",
   "execution_count": 43,
   "id": "2ca2c094",
   "metadata": {},
   "outputs": [],
   "source": [
    "import numpy as np\n",
    "import pandas as pd\n",
    "import seaborn as sns\n",
    "import matplotlib.pyplot as plt\n",
    "import warnings\n",
    "\n",
    "warnings.filterwarnings('ignore')"
   ]
  },
  {
   "cell_type": "code",
   "execution_count": 46,
   "id": "9c852114",
   "metadata": {},
   "outputs": [],
   "source": [
    "df = pd.read_csv(\"clustering_dataset_01.csv\", header=None).iloc[:100, :]\n",
    "df.rename(columns={0: \"x0\", 1:\"x1\", 2:\"label\"}, inplace=True)"
   ]
  },
  {
   "cell_type": "code",
   "execution_count": 47,
   "id": "cede0aa3",
   "metadata": {},
   "outputs": [
    {
     "name": "stdout",
     "output_type": "stream",
     "text": [
      "100 0 0\n"
     ]
    }
   ],
   "source": [
    "def dist(p1, p2):\n",
    "    \"\"\" \n",
    "        calculates the distance between points p1 and p2\n",
    "        points must have the same amount of dimensions\n",
    "        example: dist((1,2,3,4), (5,6,7,8))\n",
    "    \"\"\"\n",
    "    return np.sqrt(sum([(dim[1] - dim[0])**2 for dim in zip(p1, p2)]))\n",
    "\n",
    "\n",
    "class DBSCAN:\n",
    "    \"\"\" Performs DBSCAN clustering \"\"\"\n",
    "\n",
    "    def __init__(self, eps=0.5, min_samples=5, random_state=None):\n",
    "        self.eps = eps\n",
    "        self.min_samples = min_samples\n",
    "        self.random_state = random_state\n",
    "\n",
    "    def fit(self, data):\n",
    "        data = data.copy()\n",
    "        \n",
    "        core, non_core, other = self.filter_data(data)\n",
    "        \n",
    "        data['label'] = None\n",
    "        \n",
    "        print(len(core), len(non_core), len(other))\n",
    "        \n",
    "    def filter_data(self, data):\n",
    "        core = []\n",
    "        non_core = []\n",
    "        other = []\n",
    "        for i, i_point in data.iterrows():\n",
    "            neighbors = -1\n",
    "            for j, j_point in data.iterrows():\n",
    "                if dist(i_point, j_point) >= self.eps:\n",
    "                    neighbors += 1\n",
    "            if neighbors >= self.min_samples:\n",
    "                core.append(i)\n",
    "            elif neighbors > 0:\n",
    "                non_core.append(i)\n",
    "            else:\n",
    "                other.append(i)\n",
    "        \n",
    "        return core, non_core, other\n",
    "        \n",
    "        \"\"\"\n",
    "        core_samples, neighboring_samples,  = self.find_cluster([], [], [])\n",
    "        \n",
    "        core_samples = []\n",
    "        neighboring_samples = []\n",
    "        \n",
    "        unlabled_samples = data[~data.index.isin(core_samples + neighboring_samples)]\n",
    "        \n",
    "        if len(unlabled_samples) == 0:\n",
    "            print('done fitting')\n",
    "            return self\n",
    "        \n",
    "        core_samples = []\n",
    "        print(unlabled_samples)\n",
    "    \n",
    "    def find_cluster(core_samples, neighboring_samples, max_depth=1000):\n",
    "        pass\n",
    "\n",
    "        \"\"\"\n",
    "\n",
    "\n",
    "data = df.iloc[:, :2]\n",
    "dbs = DBSCAN(random_state=42)\n",
    "dbs.fit(data)"
   ]
  },
  {
   "cell_type": "code",
   "execution_count": null,
   "id": "226df39a",
   "metadata": {},
   "outputs": [],
   "source": []
  },
  {
   "cell_type": "code",
   "execution_count": null,
   "id": "79eb8a84",
   "metadata": {},
   "outputs": [],
   "source": []
  }
 ],
 "metadata": {
  "kernelspec": {
   "display_name": "Python 3 (ipykernel)",
   "language": "python",
   "name": "python3"
  },
  "language_info": {
   "codemirror_mode": {
    "name": "ipython",
    "version": 3
   },
   "file_extension": ".py",
   "mimetype": "text/x-python",
   "name": "python",
   "nbconvert_exporter": "python",
   "pygments_lexer": "ipython3",
   "version": "3.9.12"
  }
 },
 "nbformat": 4,
 "nbformat_minor": 5
}
