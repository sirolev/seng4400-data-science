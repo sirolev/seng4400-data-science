{
 "cells": [
  {
   "cell_type": "code",
   "execution_count": 1,
   "id": "dbfa9618",
   "metadata": {
    "ExecuteTime": {
     "end_time": "2022-12-17T03:21:21.271828Z",
     "start_time": "2022-12-17T03:21:20.043415Z"
    },
    "scrolled": false
   },
   "outputs": [],
   "source": [
    "import numpy as np\n",
    "import pandas as pd\n",
    "import itertools\n",
    "from collections import Counter\n",
    "from sklearn import preprocessing\n",
    "from sklearn.metrics import accuracy_score\n",
    "from sklearn.model_selection import train_test_split\n",
    "from sklearn.tree import DecisionTreeClassifier\n",
    "from sklearn.neural_network import MLPClassifier\n",
    "from sklearn.ensemble import RandomForestClassifier\n",
    "from sklearn.neighbors import KNeighborsClassifier"
   ]
  },
  {
   "cell_type": "code",
   "execution_count": 2,
   "id": "a822a552",
   "metadata": {
    "ExecuteTime": {
     "end_time": "2022-12-17T03:21:23.665035Z",
     "start_time": "2022-12-17T03:21:22.984273Z"
    },
    "scrolled": true
   },
   "outputs": [
    {
     "name": "stderr",
     "output_type": "stream",
     "text": [
      "C:\\Users\\alexs\\AppData\\Local\\Temp\\ipykernel_25348\\3969432982.py:1: DtypeWarning: Columns (19) have mixed types. Specify dtype option on import or set low_memory=False.\n",
      "  df = pd.read_csv('steam_games.csv', sep=';')\n"
     ]
    },
    {
     "data": {
      "text/html": [
       "<div>\n",
       "<style scoped>\n",
       "    .dataframe tbody tr th:only-of-type {\n",
       "        vertical-align: middle;\n",
       "    }\n",
       "\n",
       "    .dataframe tbody tr th {\n",
       "        vertical-align: top;\n",
       "    }\n",
       "\n",
       "    .dataframe thead th {\n",
       "        text-align: right;\n",
       "    }\n",
       "</style>\n",
       "<table border=\"1\" class=\"dataframe\">\n",
       "  <thead>\n",
       "    <tr style=\"text-align: right;\">\n",
       "      <th></th>\n",
       "      <th>Tags</th>\n",
       "      <th>Owners</th>\n",
       "    </tr>\n",
       "  </thead>\n",
       "  <tbody>\n",
       "    <tr>\n",
       "      <th>0</th>\n",
       "      <td>Action: 5426, FPS: 4831, Multiplayer: 3392, Sh...</td>\n",
       "      <td>10,000,000 .. 20,000,000</td>\n",
       "    </tr>\n",
       "    <tr>\n",
       "      <th>1</th>\n",
       "      <td>\"Shoot Em Up\": 186, Metroidvania: 181, Bullet ...</td>\n",
       "      <td>0 .. 20,000</td>\n",
       "    </tr>\n",
       "    <tr>\n",
       "      <th>2</th>\n",
       "      <td>Rogue-like: 268, Turn-Based Combat: 254, RPG: ...</td>\n",
       "      <td>200,000 .. 500,000</td>\n",
       "    </tr>\n",
       "    <tr>\n",
       "      <th>3</th>\n",
       "      <td>Typing: 221, Management: 213, Casual: 209, Dif...</td>\n",
       "      <td>100,000 .. 200,000</td>\n",
       "    </tr>\n",
       "    <tr>\n",
       "      <th>4</th>\n",
       "      <td>Action: 22, Casual: 22, Indie: 21, Simulation: 20</td>\n",
       "      <td>0 .. 20,000</td>\n",
       "    </tr>\n",
       "    <tr>\n",
       "      <th>...</th>\n",
       "      <td>...</td>\n",
       "      <td>...</td>\n",
       "    </tr>\n",
       "    <tr>\n",
       "      <th>55686</th>\n",
       "      <td>Education: 22, VR: 6, Space: 5</td>\n",
       "      <td>0 .. 20,000</td>\n",
       "    </tr>\n",
       "    <tr>\n",
       "      <th>55687</th>\n",
       "      <td>Casual: 21, Indie: 21, Adventure: 20</td>\n",
       "      <td>0 .. 20,000</td>\n",
       "    </tr>\n",
       "    <tr>\n",
       "      <th>55688</th>\n",
       "      <td>Animation &amp; Modeling: 25, 3D: 13</td>\n",
       "      <td>20,000 .. 50,000</td>\n",
       "    </tr>\n",
       "    <tr>\n",
       "      <th>55689</th>\n",
       "      <td>Early Access: 21, Indie: 20, RPG: 20, Strategy...</td>\n",
       "      <td>0 .. 20,000</td>\n",
       "    </tr>\n",
       "    <tr>\n",
       "      <th>55690</th>\n",
       "      <td>Action: 42, Casual: 41, Indie: 41, Platformer:...</td>\n",
       "      <td>0 .. 20,000</td>\n",
       "    </tr>\n",
       "  </tbody>\n",
       "</table>\n",
       "<p>55691 rows × 2 columns</p>\n",
       "</div>"
      ],
      "text/plain": [
       "                                                    Tags  \\\n",
       "0      Action: 5426, FPS: 4831, Multiplayer: 3392, Sh...   \n",
       "1      \"Shoot Em Up\": 186, Metroidvania: 181, Bullet ...   \n",
       "2      Rogue-like: 268, Turn-Based Combat: 254, RPG: ...   \n",
       "3      Typing: 221, Management: 213, Casual: 209, Dif...   \n",
       "4      Action: 22, Casual: 22, Indie: 21, Simulation: 20   \n",
       "...                                                  ...   \n",
       "55686                     Education: 22, VR: 6, Space: 5   \n",
       "55687               Casual: 21, Indie: 21, Adventure: 20   \n",
       "55688                   Animation & Modeling: 25, 3D: 13   \n",
       "55689  Early Access: 21, Indie: 20, RPG: 20, Strategy...   \n",
       "55690  Action: 42, Casual: 41, Indie: 41, Platformer:...   \n",
       "\n",
       "                         Owners  \n",
       "0      10,000,000 .. 20,000,000  \n",
       "1                   0 .. 20,000  \n",
       "2            200,000 .. 500,000  \n",
       "3            100,000 .. 200,000  \n",
       "4                   0 .. 20,000  \n",
       "...                         ...  \n",
       "55686               0 .. 20,000  \n",
       "55687               0 .. 20,000  \n",
       "55688          20,000 .. 50,000  \n",
       "55689               0 .. 20,000  \n",
       "55690               0 .. 20,000  \n",
       "\n",
       "[55691 rows x 2 columns]"
      ]
     },
     "execution_count": 2,
     "metadata": {},
     "output_type": "execute_result"
    }
   ],
   "source": [
    "# dataset url: https://www.kaggle.com/datasets/tristan581/all-55000-games-on-steam-november-2022\n",
    "df = pd.read_csv('steam_games.csv', sep=';')\n",
    "#df = df[df['Price'] > 0]\n",
    "df = df[['Tags', 'Owners']]\n",
    "df"
   ]
  },
  {
   "cell_type": "code",
   "execution_count": 24,
   "id": "996e74b4",
   "metadata": {
    "ExecuteTime": {
     "end_time": "2022-12-17T03:29:44.795291Z",
     "start_time": "2022-12-17T03:29:44.541128Z"
    },
    "scrolled": true
   },
   "outputs": [],
   "source": [
    "# select entries with at least 6 tags \n",
    "tag_count = [len([items_list.strip().split(':')[0] for items_list in str(items_str).split(',')]) for items_str in df['Tags']]\n",
    "df['tag_count'] = tag_count\n",
    "df_filtered = df[df['tag_count'] >= 6][['Tags', 'Owners']].copy()\n",
    "#df_filtered\n",
    "df.drop(columns=['tag_count'], inplace=True)"
   ]
  },
  {
   "cell_type": "code",
   "execution_count": 5,
   "id": "227ea699",
   "metadata": {
    "ExecuteTime": {
     "end_time": "2022-12-17T03:21:48.675512Z",
     "start_time": "2022-12-17T03:21:48.654368Z"
    }
   },
   "outputs": [],
   "source": [
    "# encode y labels\n",
    "le_owners = preprocessing.LabelEncoder()\n",
    "le_owners.fit(df_filtered['Owners'])\n",
    "df_filtered['Owners'] = le_owners.transform(df_filtered['Owners'])\n",
    "#df_filtered"
   ]
  },
  {
   "cell_type": "code",
   "execution_count": 6,
   "id": "ba132a8b",
   "metadata": {
    "ExecuteTime": {
     "end_time": "2022-12-17T03:22:35.643911Z",
     "start_time": "2022-12-17T03:21:50.116941Z"
    },
    "scrolled": true
   },
   "outputs": [],
   "source": [
    "# encode tags\n",
    "unique_tags = list(set(itertools.chain(*[[items_list.strip().split(':')[0] for items_list in str(items_str).split(',')] for items_str in df['Tags']])))\n",
    "tag_id, tag_label = pd.factorize(unique_tags)\n",
    "encoded_tags = dict(zip(tag_label, tag_id))\n",
    "\n",
    "df_tags = pd.DataFrame(columns=['x1', 'x2', 'x3', 'x4', 'x5', 'x6'])\n",
    "\n",
    "for i, tags in enumerate(df_filtered['Tags']):\n",
    "    df_tags.loc[len(df_tags.index)] = [encoded_tags[items_list.strip().split(':')[0]] for items_list in str(tags).split(',')][:6]\n",
    "#     df_tags.loc[len(df_tags.index)] = [items_list.strip().split(':')[0] for items_list in str(tags).split(',')][:6]\n",
    "# df_tags"
   ]
  },
  {
   "cell_type": "code",
   "execution_count": 7,
   "id": "f8c570da",
   "metadata": {
    "ExecuteTime": {
     "end_time": "2022-12-17T03:23:59.672915Z",
     "start_time": "2022-12-17T03:23:59.650850Z"
    }
   },
   "outputs": [
    {
     "data": {
      "text/html": [
       "<div>\n",
       "<style scoped>\n",
       "    .dataframe tbody tr th:only-of-type {\n",
       "        vertical-align: middle;\n",
       "    }\n",
       "\n",
       "    .dataframe tbody tr th {\n",
       "        vertical-align: top;\n",
       "    }\n",
       "\n",
       "    .dataframe thead th {\n",
       "        text-align: right;\n",
       "    }\n",
       "</style>\n",
       "<table border=\"1\" class=\"dataframe\">\n",
       "  <thead>\n",
       "    <tr style=\"text-align: right;\">\n",
       "      <th></th>\n",
       "      <th>x1</th>\n",
       "      <th>x2</th>\n",
       "      <th>x3</th>\n",
       "      <th>x4</th>\n",
       "      <th>x5</th>\n",
       "      <th>x6</th>\n",
       "      <th>y</th>\n",
       "    </tr>\n",
       "  </thead>\n",
       "  <tbody>\n",
       "    <tr>\n",
       "      <th>0</th>\n",
       "      <td>83</td>\n",
       "      <td>412</td>\n",
       "      <td>420</td>\n",
       "      <td>225</td>\n",
       "      <td>1</td>\n",
       "      <td>385</td>\n",
       "      <td>2</td>\n",
       "    </tr>\n",
       "    <tr>\n",
       "      <th>1</th>\n",
       "      <td>259</td>\n",
       "      <td>362</td>\n",
       "      <td>404</td>\n",
       "      <td>52</td>\n",
       "      <td>274</td>\n",
       "      <td>409</td>\n",
       "      <td>0</td>\n",
       "    </tr>\n",
       "    <tr>\n",
       "      <th>2</th>\n",
       "      <td>366</td>\n",
       "      <td>136</td>\n",
       "      <td>331</td>\n",
       "      <td>441</td>\n",
       "      <td>187</td>\n",
       "      <td>104</td>\n",
       "      <td>7</td>\n",
       "    </tr>\n",
       "    <tr>\n",
       "      <th>3</th>\n",
       "      <td>335</td>\n",
       "      <td>365</td>\n",
       "      <td>33</td>\n",
       "      <td>409</td>\n",
       "      <td>210</td>\n",
       "      <td>255</td>\n",
       "      <td>3</td>\n",
       "    </tr>\n",
       "    <tr>\n",
       "      <th>4</th>\n",
       "      <td>83</td>\n",
       "      <td>153</td>\n",
       "      <td>331</td>\n",
       "      <td>104</td>\n",
       "      <td>157</td>\n",
       "      <td>302</td>\n",
       "      <td>3</td>\n",
       "    </tr>\n",
       "    <tr>\n",
       "      <th>...</th>\n",
       "      <td>...</td>\n",
       "      <td>...</td>\n",
       "      <td>...</td>\n",
       "      <td>...</td>\n",
       "      <td>...</td>\n",
       "      <td>...</td>\n",
       "      <td>...</td>\n",
       "    </tr>\n",
       "    <tr>\n",
       "      <th>41796</th>\n",
       "      <td>83</td>\n",
       "      <td>73</td>\n",
       "      <td>239</td>\n",
       "      <td>29</td>\n",
       "      <td>94</td>\n",
       "      <td>309</td>\n",
       "      <td>0</td>\n",
       "    </tr>\n",
       "    <tr>\n",
       "      <th>41797</th>\n",
       "      <td>420</td>\n",
       "      <td>383</td>\n",
       "      <td>158</td>\n",
       "      <td>104</td>\n",
       "      <td>83</td>\n",
       "      <td>153</td>\n",
       "      <td>7</td>\n",
       "    </tr>\n",
       "    <tr>\n",
       "      <th>41798</th>\n",
       "      <td>158</td>\n",
       "      <td>33</td>\n",
       "      <td>153</td>\n",
       "      <td>403</td>\n",
       "      <td>115</td>\n",
       "      <td>105</td>\n",
       "      <td>10</td>\n",
       "    </tr>\n",
       "    <tr>\n",
       "      <th>41799</th>\n",
       "      <td>158</td>\n",
       "      <td>153</td>\n",
       "      <td>420</td>\n",
       "      <td>342</td>\n",
       "      <td>311</td>\n",
       "      <td>383</td>\n",
       "      <td>3</td>\n",
       "    </tr>\n",
       "    <tr>\n",
       "      <th>41800</th>\n",
       "      <td>83</td>\n",
       "      <td>33</td>\n",
       "      <td>153</td>\n",
       "      <td>112</td>\n",
       "      <td>213</td>\n",
       "      <td>29</td>\n",
       "      <td>0</td>\n",
       "    </tr>\n",
       "  </tbody>\n",
       "</table>\n",
       "<p>41801 rows × 7 columns</p>\n",
       "</div>"
      ],
      "text/plain": [
       "        x1   x2   x3   x4   x5   x6   y\n",
       "0       83  412  420  225    1  385   2\n",
       "1      259  362  404   52  274  409   0\n",
       "2      366  136  331  441  187  104   7\n",
       "3      335  365   33  409  210  255   3\n",
       "4       83  153  331  104  157  302   3\n",
       "...    ...  ...  ...  ...  ...  ...  ..\n",
       "41796   83   73  239   29   94  309   0\n",
       "41797  420  383  158  104   83  153   7\n",
       "41798  158   33  153  403  115  105  10\n",
       "41799  158  153  420  342  311  383   3\n",
       "41800   83   33  153  112  213   29   0\n",
       "\n",
       "[41801 rows x 7 columns]"
      ]
     },
     "execution_count": 7,
     "metadata": {},
     "output_type": "execute_result"
    }
   ],
   "source": [
    "df_filtered.reset_index(drop=True, inplace=True)\n",
    "df_tags['y'] = df_filtered['Owners']\n",
    "df_tags"
   ]
  },
  {
   "cell_type": "code",
   "execution_count": 8,
   "id": "d15f372a",
   "metadata": {
    "ExecuteTime": {
     "end_time": "2022-12-17T03:24:01.813921Z",
     "start_time": "2022-12-17T03:24:01.790238Z"
    }
   },
   "outputs": [],
   "source": [
    "X = df_tags.iloc[: , :6]\n",
    "y = df_tags.y\n",
    "\n",
    "X_train, X_test, y_train, y_test = train_test_split(X, y, test_size=0.25, random_state=42)"
   ]
  },
  {
   "cell_type": "markdown",
   "id": "942b2ce9",
   "metadata": {},
   "source": [
    "### Decision Tree Classifier"
   ]
  },
  {
   "cell_type": "code",
   "execution_count": 13,
   "id": "fec83b0a",
   "metadata": {
    "ExecuteTime": {
     "end_time": "2022-12-17T03:24:28.355858Z",
     "start_time": "2022-12-17T03:24:28.293757Z"
    },
    "scrolled": false
   },
   "outputs": [
    {
     "name": "stdout",
     "output_type": "stream",
     "text": [
      "accuracy score: 0.64865\n"
     ]
    }
   ],
   "source": [
    "clf = DecisionTreeClassifier(max_depth=5, random_state=42)\n",
    "clf.fit(X_train,y_train)\n",
    "pred = clf.predict(X_test)\n",
    "print(f'accuracy score: {accuracy_score(y_test, pred):.5f}')"
   ]
  },
  {
   "cell_type": "markdown",
   "id": "9d7eb9c6",
   "metadata": {},
   "source": [
    "### MLP Classifier"
   ]
  },
  {
   "cell_type": "code",
   "execution_count": 14,
   "id": "922f14d4",
   "metadata": {
    "ExecuteTime": {
     "end_time": "2022-12-17T03:24:34.150737Z",
     "start_time": "2022-12-17T03:24:30.468404Z"
    },
    "scrolled": true
   },
   "outputs": [
    {
     "name": "stdout",
     "output_type": "stream",
     "text": [
      "accuracy score: 0.64587\n"
     ]
    }
   ],
   "source": [
    "clf = MLPClassifier(alpha=1e-5, hidden_layer_sizes=(5, 2), random_state=42)\n",
    "clf.fit(X_train,y_train)\n",
    "pred = clf.predict(X_test)\n",
    "print(f'accuracy score: {accuracy_score(y_test, pred):.5f}')"
   ]
  },
  {
   "cell_type": "markdown",
   "id": "e139bbe4",
   "metadata": {},
   "source": [
    "### Random Forest Classifier"
   ]
  },
  {
   "cell_type": "code",
   "execution_count": 15,
   "id": "7dc062ec",
   "metadata": {
    "ExecuteTime": {
     "end_time": "2022-12-17T03:24:35.460192Z",
     "start_time": "2022-12-17T03:24:34.212944Z"
    }
   },
   "outputs": [
    {
     "name": "stdout",
     "output_type": "stream",
     "text": [
      "accuracy score: 0.64587\n"
     ]
    }
   ],
   "source": [
    "clf = RandomForestClassifier(max_depth=5, random_state=42)\n",
    "clf.fit(X_train,y_train)\n",
    "pred = clf.predict(X_test)\n",
    "print(f'accuracy score: {accuracy_score(y_test, pred):.5f}')"
   ]
  },
  {
   "cell_type": "markdown",
   "id": "cf35e6b4",
   "metadata": {},
   "source": [
    "### KNeighborsClassifier"
   ]
  },
  {
   "cell_type": "code",
   "execution_count": 18,
   "id": "2683c519",
   "metadata": {
    "ExecuteTime": {
     "end_time": "2022-12-17T03:25:43.186522Z",
     "start_time": "2022-12-17T03:25:42.574824Z"
    }
   },
   "outputs": [
    {
     "name": "stdout",
     "output_type": "stream",
     "text": [
      "accuracy score: 0.64377\n"
     ]
    }
   ],
   "source": [
    "clf = KNeighborsClassifier(n_neighbors=20)\n",
    "clf.fit(X_train,y_train)\n",
    "pred = clf.predict(X_test)\n",
    "print(f'accuracy score: {accuracy_score(y_test, pred):.5f}')"
   ]
  },
  {
   "cell_type": "code",
   "execution_count": 11,
   "id": "03d77a87",
   "metadata": {
    "ExecuteTime": {
     "end_time": "2022-12-15T09:51:25.509715Z",
     "start_time": "2022-12-15T09:51:25.498661Z"
    }
   },
   "outputs": [],
   "source": [
    "# Decision Tree Classifier: 0.48971 - 0.64865\n",
    "# MLP Classifier: 0.50005 - 0.64587\n",
    "# Random Forest Classifier: 0.64195 - 0.64587\n",
    "# K Nearest Neighbors Classifier: 0.61324 - 0.64377"
   ]
  },
  {
   "cell_type": "markdown",
   "id": "c9392f46",
   "metadata": {},
   "source": [
    "### Locate bias"
   ]
  },
  {
   "cell_type": "code",
   "execution_count": 26,
   "id": "88dfaca0",
   "metadata": {
    "ExecuteTime": {
     "end_time": "2022-12-17T03:29:59.951706Z",
     "start_time": "2022-12-17T03:29:59.921563Z"
    }
   },
   "outputs": [
    {
     "data": {
      "text/html": [
       "<div>\n",
       "<style scoped>\n",
       "    .dataframe tbody tr th:only-of-type {\n",
       "        vertical-align: middle;\n",
       "    }\n",
       "\n",
       "    .dataframe tbody tr th {\n",
       "        vertical-align: top;\n",
       "    }\n",
       "\n",
       "    .dataframe thead th {\n",
       "        text-align: right;\n",
       "    }\n",
       "</style>\n",
       "<table border=\"1\" class=\"dataframe\">\n",
       "  <thead>\n",
       "    <tr style=\"text-align: right;\">\n",
       "      <th></th>\n",
       "      <th>Entries</th>\n",
       "    </tr>\n",
       "    <tr>\n",
       "      <th>Interest</th>\n",
       "      <th></th>\n",
       "    </tr>\n",
       "  </thead>\n",
       "  <tbody>\n",
       "    <tr>\n",
       "      <th>0 .. 20,000</th>\n",
       "      <td>37938</td>\n",
       "    </tr>\n",
       "    <tr>\n",
       "      <th>20,000 .. 50,000</th>\n",
       "      <td>7285</td>\n",
       "    </tr>\n",
       "    <tr>\n",
       "      <th>50,000 .. 100,000</th>\n",
       "      <td>3695</td>\n",
       "    </tr>\n",
       "    <tr>\n",
       "      <th>100,000 .. 200,000</th>\n",
       "      <td>2518</td>\n",
       "    </tr>\n",
       "    <tr>\n",
       "      <th>200,000 .. 500,000</th>\n",
       "      <td>2162</td>\n",
       "    </tr>\n",
       "    <tr>\n",
       "      <th>500,000 .. 1,000,000</th>\n",
       "      <td>933</td>\n",
       "    </tr>\n",
       "    <tr>\n",
       "      <th>1,000,000 .. 2,000,000</th>\n",
       "      <td>526</td>\n",
       "    </tr>\n",
       "    <tr>\n",
       "      <th>2,000,000 .. 5,000,000</th>\n",
       "      <td>335</td>\n",
       "    </tr>\n",
       "    <tr>\n",
       "      <th>5,000,000 .. 10,000,000</th>\n",
       "      <td>97</td>\n",
       "    </tr>\n",
       "    <tr>\n",
       "      <th>10,000,000 .. 20,000,000</th>\n",
       "      <td>41</td>\n",
       "    </tr>\n",
       "    <tr>\n",
       "      <th>20,000,000 .. 50,000,000</th>\n",
       "      <td>21</td>\n",
       "    </tr>\n",
       "    <tr>\n",
       "      <th>50,000,000 .. 100,000,000</th>\n",
       "      <td>4</td>\n",
       "    </tr>\n",
       "    <tr>\n",
       "      <th>200,000,000 .. 500,000,000</th>\n",
       "      <td>1</td>\n",
       "    </tr>\n",
       "  </tbody>\n",
       "</table>\n",
       "</div>"
      ],
      "text/plain": [
       "                            Entries\n",
       "Interest                           \n",
       "0 .. 20,000                   37938\n",
       "20,000 .. 50,000               7285\n",
       "50,000 .. 100,000              3695\n",
       "100,000 .. 200,000             2518\n",
       "200,000 .. 500,000             2162\n",
       "500,000 .. 1,000,000            933\n",
       "1,000,000 .. 2,000,000          526\n",
       "2,000,000 .. 5,000,000          335\n",
       "5,000,000 .. 10,000,000          97\n",
       "10,000,000 .. 20,000,000         41\n",
       "20,000,000 .. 50,000,000         21\n",
       "50,000,000 .. 100,000,000         4\n",
       "200,000,000 .. 500,000,000        1"
      ]
     },
     "execution_count": 26,
     "metadata": {},
     "output_type": "execute_result"
    }
   ],
   "source": [
    "df_bias = df.groupby(['Owners']).count().sort_values(by=['Tags'], ascending=False)\n",
    "df_bias.rename(columns={'Tags':'Entries'}, inplace=True)\n",
    "df_bias.index.names = ['Interest']\n",
    "df_bias"
   ]
  }
 ],
 "metadata": {
  "kernelspec": {
   "display_name": "Python 3 (ipykernel)",
   "language": "python",
   "name": "python3"
  },
  "language_info": {
   "codemirror_mode": {
    "name": "ipython",
    "version": 3
   },
   "file_extension": ".py",
   "mimetype": "text/x-python",
   "name": "python",
   "nbconvert_exporter": "python",
   "pygments_lexer": "ipython3",
   "version": "3.9.12"
  },
  "varInspector": {
   "cols": {
    "lenName": 16,
    "lenType": 16,
    "lenVar": 40
   },
   "kernels_config": {
    "python": {
     "delete_cmd_postfix": "",
     "delete_cmd_prefix": "del ",
     "library": "var_list.py",
     "varRefreshCmd": "print(var_dic_list())"
    },
    "r": {
     "delete_cmd_postfix": ") ",
     "delete_cmd_prefix": "rm(",
     "library": "var_list.r",
     "varRefreshCmd": "cat(var_dic_list()) "
    }
   },
   "types_to_exclude": [
    "module",
    "function",
    "builtin_function_or_method",
    "instance",
    "_Feature"
   ],
   "window_display": false
  }
 },
 "nbformat": 4,
 "nbformat_minor": 5
}
