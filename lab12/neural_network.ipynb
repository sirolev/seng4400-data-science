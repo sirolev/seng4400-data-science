{
 "cells": [
  {
   "cell_type": "code",
   "execution_count": 20,
   "id": "4ab74837",
   "metadata": {
    "ExecuteTime": {
     "end_time": "2022-12-17T01:55:58.678403Z",
     "start_time": "2022-12-17T01:55:58.671891Z"
    }
   },
   "outputs": [],
   "source": [
    "import numpy as np\n",
    "import pandas as pd\n",
    "from sklearn.neural_network import MLPClassifier\n",
    "from sklearn.preprocessing import StandardScaler\n",
    "from sklearn.model_selection import train_test_split\n",
    "from sklearn.metrics import accuracy_score"
   ]
  },
  {
   "cell_type": "code",
   "execution_count": 16,
   "id": "18cc62e8",
   "metadata": {
    "ExecuteTime": {
     "end_time": "2022-12-17T01:53:52.147183Z",
     "start_time": "2022-12-17T01:53:52.139624Z"
    }
   },
   "outputs": [],
   "source": [
    "# load irist dataset\n",
    "from sklearn.datasets import load_iris\n",
    "iris = load_iris()\n",
    "df = pd.DataFrame(data=iris.data, columns=iris.feature_names)\n",
    "X = df.values"
   ]
  },
  {
   "cell_type": "code",
   "execution_count": 17,
   "id": "e3cfe5d7",
   "metadata": {
    "ExecuteTime": {
     "end_time": "2022-12-17T01:53:53.513716Z",
     "start_time": "2022-12-17T01:53:53.500527Z"
    }
   },
   "outputs": [
    {
     "name": "stdout",
     "output_type": "stream",
     "text": [
      "Xscaled shape: (150, 4)\n"
     ]
    }
   ],
   "source": [
    "# scale data\n",
    "scaler = StandardScaler()\n",
    "scaler.fit(X)\n",
    "Xscaled = scaler.transform(X)\n",
    "print(\"Xscaled shape:\", Xscaled.shape)"
   ]
  },
  {
   "cell_type": "code",
   "execution_count": 111,
   "id": "875c16d1",
   "metadata": {
    "ExecuteTime": {
     "end_time": "2022-12-17T02:16:07.281412Z",
     "start_time": "2022-12-17T02:16:07.269857Z"
    }
   },
   "outputs": [],
   "source": [
    "X_train, X_test, y_train, y_test = train_test_split(X, iris.target, test_size=0.3, random_state=42)\n",
    "\n",
    "def get_accuracy(clf):\n",
    "    clf.fit(X_train, y_train)\n",
    "    accuracy = accuracy_score(y_test, clf.predict(X_test))\n",
    "    print(f'test accuracy: {accuracy:.5f}')\n",
    "    accuracy = accuracy_score(y_train, clf.predict(X_train))\n",
    "    print(f'train accuracy: {accuracy:.5f}')"
   ]
  },
  {
   "cell_type": "markdown",
   "id": "d0de1520",
   "metadata": {},
   "source": [
    "## 10 experiments varying hyperparameters "
   ]
  },
  {
   "cell_type": "code",
   "execution_count": 112,
   "id": "20aa08e0",
   "metadata": {
    "ExecuteTime": {
     "end_time": "2022-12-17T02:16:07.293524Z",
     "start_time": "2022-12-17T02:16:07.281412Z"
    }
   },
   "outputs": [
    {
     "name": "stdout",
     "output_type": "stream",
     "text": [
      "test accuracy: 0.28889\n",
      "train accuracy: 0.35238\n"
     ]
    }
   ],
   "source": [
    "clf = MLPClassifier(solver='lbfgs', alpha=1e-5, hidden_layer_sizes=(5, 2), random_state=1, max_iter=5000)\n",
    "get_accuracy(clf)"
   ]
  },
  {
   "cell_type": "code",
   "execution_count": 113,
   "id": "2c7f8fed",
   "metadata": {
    "ExecuteTime": {
     "end_time": "2022-12-17T02:16:07.443469Z",
     "start_time": "2022-12-17T02:16:07.294029Z"
    },
    "scrolled": true
   },
   "outputs": [
    {
     "name": "stdout",
     "output_type": "stream",
     "text": [
      "test accuracy: 0.42222\n",
      "train accuracy: 0.29524\n"
     ]
    }
   ],
   "source": [
    "clf = MLPClassifier(solver='sgd', alpha=1e-5, hidden_layer_sizes=(5, 2), random_state=1, max_iter=5000)\n",
    "get_accuracy(clf)"
   ]
  },
  {
   "cell_type": "code",
   "execution_count": 114,
   "id": "e10d44e1",
   "metadata": {
    "ExecuteTime": {
     "end_time": "2022-12-17T02:16:07.980971Z",
     "start_time": "2022-12-17T02:16:07.445476Z"
    },
    "scrolled": true
   },
   "outputs": [
    {
     "name": "stdout",
     "output_type": "stream",
     "text": [
      "test accuracy: 0.71111\n",
      "train accuracy: 0.64762\n"
     ]
    }
   ],
   "source": [
    "clf = MLPClassifier(solver='adam', alpha=1e-5, hidden_layer_sizes=(5, 2), random_state=1, max_iter=5000)\n",
    "get_accuracy(clf)"
   ]
  },
  {
   "cell_type": "code",
   "execution_count": 115,
   "id": "37619a3b",
   "metadata": {
    "ExecuteTime": {
     "end_time": "2022-12-17T02:16:08.073776Z",
     "start_time": "2022-12-17T02:16:07.981972Z"
    }
   },
   "outputs": [
    {
     "name": "stdout",
     "output_type": "stream",
     "text": [
      "test accuracy: 1.00000\n",
      "train accuracy: 0.98095\n"
     ]
    }
   ],
   "source": [
    "clf = MLPClassifier(solver='lbfgs', alpha=1e-5, hidden_layer_sizes=(5, 4), random_state=1, max_iter=5000)\n",
    "get_accuracy(clf)"
   ]
  },
  {
   "cell_type": "code",
   "execution_count": 116,
   "id": "23efe6e9",
   "metadata": {
    "ExecuteTime": {
     "end_time": "2022-12-17T02:16:08.781639Z",
     "start_time": "2022-12-17T02:16:08.075819Z"
    }
   },
   "outputs": [
    {
     "name": "stdout",
     "output_type": "stream",
     "text": [
      "test accuracy: 0.97778\n",
      "train accuracy: 0.98095\n"
     ]
    }
   ],
   "source": [
    "clf = MLPClassifier(solver='sgd', alpha=1e-5, hidden_layer_sizes=(5, 4), random_state=1, max_iter=5000)\n",
    "get_accuracy(clf)"
   ]
  },
  {
   "cell_type": "code",
   "execution_count": 117,
   "id": "50471162",
   "metadata": {
    "ExecuteTime": {
     "end_time": "2022-12-17T02:16:09.203402Z",
     "start_time": "2022-12-17T02:16:08.783640Z"
    }
   },
   "outputs": [
    {
     "name": "stdout",
     "output_type": "stream",
     "text": [
      "test accuracy: 1.00000\n",
      "train accuracy: 0.96190\n"
     ]
    }
   ],
   "source": [
    "clf = MLPClassifier(solver='adam', alpha=1e-5, hidden_layer_sizes=(5, 4), random_state=1, max_iter=5000)\n",
    "get_accuracy(clf)"
   ]
  },
  {
   "cell_type": "code",
   "execution_count": 118,
   "id": "271fe830",
   "metadata": {
    "ExecuteTime": {
     "end_time": "2022-12-17T02:16:09.218902Z",
     "start_time": "2022-12-17T02:16:09.205331Z"
    }
   },
   "outputs": [
    {
     "name": "stdout",
     "output_type": "stream",
     "text": [
      "test accuracy: 0.28889\n",
      "train accuracy: 0.35238\n"
     ]
    }
   ],
   "source": [
    "clf = MLPClassifier(solver='lbfgs', alpha=1e-5, hidden_layer_sizes=(4, 6), random_state=1, max_iter=5000)\n",
    "get_accuracy(clf)"
   ]
  },
  {
   "cell_type": "code",
   "execution_count": 119,
   "id": "526b29c3",
   "metadata": {
    "ExecuteTime": {
     "end_time": "2022-12-17T02:16:09.799895Z",
     "start_time": "2022-12-17T02:16:09.221870Z"
    }
   },
   "outputs": [
    {
     "name": "stdout",
     "output_type": "stream",
     "text": [
      "test accuracy: 0.97778\n",
      "train accuracy: 0.97143\n"
     ]
    }
   ],
   "source": [
    "clf = MLPClassifier(solver='sgd', alpha=1e-5, hidden_layer_sizes=(4, 5), random_state=1, max_iter=5000)\n",
    "get_accuracy(clf)"
   ]
  },
  {
   "cell_type": "code",
   "execution_count": 120,
   "id": "1fb7134b",
   "metadata": {
    "ExecuteTime": {
     "end_time": "2022-12-17T02:16:10.332553Z",
     "start_time": "2022-12-17T02:16:09.800895Z"
    }
   },
   "outputs": [
    {
     "name": "stdout",
     "output_type": "stream",
     "text": [
      "test accuracy: 0.97778\n",
      "train accuracy: 0.97143\n"
     ]
    }
   ],
   "source": [
    "clf = MLPClassifier(solver='adam', alpha=1e-5, hidden_layer_sizes=(4, 5), random_state=1, max_iter=5000)\n",
    "get_accuracy(clf)"
   ]
  },
  {
   "cell_type": "code",
   "execution_count": 121,
   "id": "bdf852d8",
   "metadata": {
    "ExecuteTime": {
     "end_time": "2022-12-17T02:16:10.675463Z",
     "start_time": "2022-12-17T02:16:10.334057Z"
    }
   },
   "outputs": [
    {
     "name": "stdout",
     "output_type": "stream",
     "text": [
      "test accuracy: 1.00000\n",
      "train accuracy: 0.96190\n"
     ]
    }
   ],
   "source": [
    "clf = MLPClassifier(solver='adam', alpha=1e-1, hidden_layer_sizes=(5, 4), random_state=1, max_iter=5000)\n",
    "get_accuracy(clf)"
   ]
  }
 ],
 "metadata": {
  "kernelspec": {
   "display_name": "Python 3 (ipykernel)",
   "language": "python",
   "name": "python3"
  },
  "language_info": {
   "codemirror_mode": {
    "name": "ipython",
    "version": 3
   },
   "file_extension": ".py",
   "mimetype": "text/x-python",
   "name": "python",
   "nbconvert_exporter": "python",
   "pygments_lexer": "ipython3",
   "version": "3.9.12"
  },
  "varInspector": {
   "cols": {
    "lenName": 16,
    "lenType": 16,
    "lenVar": 40
   },
   "kernels_config": {
    "python": {
     "delete_cmd_postfix": "",
     "delete_cmd_prefix": "del ",
     "library": "var_list.py",
     "varRefreshCmd": "print(var_dic_list())"
    },
    "r": {
     "delete_cmd_postfix": ") ",
     "delete_cmd_prefix": "rm(",
     "library": "var_list.r",
     "varRefreshCmd": "cat(var_dic_list()) "
    }
   },
   "types_to_exclude": [
    "module",
    "function",
    "builtin_function_or_method",
    "instance",
    "_Feature"
   ],
   "window_display": false
  }
 },
 "nbformat": 4,
 "nbformat_minor": 5
}
