{
 "cells": [
  {
   "cell_type": "code",
   "execution_count": 34,
   "id": "3203851c",
   "metadata": {
    "ExecuteTime": {
     "end_time": "2022-12-17T03:02:51.519661Z",
     "start_time": "2022-12-17T03:02:51.510151Z"
    }
   },
   "outputs": [],
   "source": [
    "from bs4 import BeautifulSoup\n",
    "from urllib.request import urlopen\n",
    "import time"
   ]
  },
  {
   "cell_type": "markdown",
   "id": "baeae00c",
   "metadata": {},
   "source": [
    "### imdbFetchFilm"
   ]
  },
  {
   "cell_type": "code",
   "execution_count": 35,
   "id": "da2d4cbf",
   "metadata": {
    "ExecuteTime": {
     "end_time": "2022-12-17T03:03:14.300599Z",
     "start_time": "2022-12-17T03:02:53.671528Z"
    }
   },
   "outputs": [
    {
     "name": "stdout",
     "output_type": "stream",
     "text": [
      "Black Mirror\n",
      "['nm8573290', 'nm0580014', 'nm2051261', 'nm4632043', 'nm0678648'] (5/472)\n",
      "\n",
      "The 100\n",
      "['nm4031518', 'nm3844586', 'nm1901842', 'nm0155389', 'nm5654466'] (5/522)\n",
      "\n",
      "Game of thrones\n",
      "['nm0401264', 'nm0580014', 'nm3884872', 'nm1092837', 'nm1745190'] (5/841)\n",
      "\n",
      "Stranger Things\n",
      "['nm0193160', 'nm4483883', 'nm2079627', 'nm10953864', 'nm2987522'] (5/594)\n",
      "\n",
      "The Witcher\n",
      "['nm7858011', 'nm7835945', 'nm1181180', 'nm10977659', 'nm13684102'] (5/233)\n",
      "\n"
     ]
    }
   ],
   "source": [
    "def imdbFetchFilm(filmID):\n",
    "    \"\"\" returns list of nameID numbers like [\"nm0000291\", \"nm3363032\", ...] \"\"\"\n",
    "    \n",
    "    url = f\"https://www.imdb.com/title/{filmID}/fullcredits\"\n",
    "    soup = BeautifulSoup(urlopen(url).read().decode(\"utf-8\"), \"html.parser\")\n",
    "    \n",
    "    cast_list = soup.find(\"table\", class_=\"cast_list\")\n",
    "    a_list = cast_list.select(\"a[href*=name]\")\n",
    "    name_ids = list(set([a['href'][6:][:-1] for a in a_list]))\n",
    "    \n",
    "    return name_ids\n",
    "\n",
    "films = {\n",
    "    'Black Mirror': 'tt2085059',\n",
    "    'The 100': 'tt2661044',\n",
    "    'Game of thrones': 'tt0944947',\n",
    "    'Stranger Things': 'tt4574334',\n",
    "    'The Witcher': 'tt5180504'\n",
    "}\n",
    "\n",
    "for film, fid in films.items():\n",
    "    name_ids = imdbFetchFilm(fid)\n",
    "    print(f'{film}\\n{name_ids[:5]} (5/{len(name_ids)})\\n')\n",
    "    time.sleep(1)"
   ]
  },
  {
   "cell_type": "markdown",
   "id": "751f45f1",
   "metadata": {},
   "source": [
    "### imdbFetchPerson"
   ]
  },
  {
   "cell_type": "code",
   "execution_count": 36,
   "id": "53a166ff",
   "metadata": {
    "ExecuteTime": {
     "end_time": "2022-12-17T03:03:16.072066Z",
     "start_time": "2022-12-17T03:03:16.059150Z"
    }
   },
   "outputs": [],
   "source": [
    "# Using mechanicalsoup because bs4 returns \"HTTPError: HTTP Error 403: Forbidden\" for this url\n",
    "import mechanicalsoup\n",
    "browser = mechanicalsoup.Browser()"
   ]
  },
  {
   "cell_type": "code",
   "execution_count": 44,
   "id": "626681a0",
   "metadata": {
    "ExecuteTime": {
     "end_time": "2022-12-17T03:15:27.982996Z",
     "start_time": "2022-12-17T03:15:26.415714Z"
    }
   },
   "outputs": [
    {
     "name": "stdout",
     "output_type": "stream",
     "text": [
      "<html>\n",
      "<head><title>403 Forbidden</title></head>\n",
      "<body>\n",
      "<center><h1>403 Forbidden</h1></center>\n",
      "</body>\n",
      "</html>\n",
      "\n",
      "nm4031518\n",
      "[] (5/0)\n",
      "\n"
     ]
    }
   ],
   "source": [
    "def imdbFetchPerson(nameID):\n",
    "    \"\"\" returns list of filmID numbers like [\"tt9114286\", \"tt1825683\", ...] \"\"\"\n",
    "    \n",
    "    url = f\"https://www.imdb.com/name/{nameID}\"\n",
    "    soup = browser.get(url).soup\n",
    "    \n",
    "    a_list = soup.select(\"a[href*=title]\")\n",
    "    film_ids = list(set([a['href'][8:][:-1] for a in a_list]))\n",
    "    \n",
    "    print(soup)\n",
    "    return film_ids\n",
    "\n",
    "persons = imdbFetchFilm('tt2661044')[:5]\n",
    "\n",
    "for pid in persons:\n",
    "    film_ids = imdbFetchPerson(pid)\n",
    "    print(f'{pid}\\n{film_ids[:5]} (5/{len(film_ids)})\\n')\n",
    "    \n",
    "    break\n",
    "    #time.sleep(1)\n",
    "    "
   ]
  },
  {
   "cell_type": "markdown",
   "id": "b5965217",
   "metadata": {},
   "source": [
    "### Nevermind, mechanicalsoup doesnt work either"
   ]
  }
 ],
 "metadata": {
  "kernelspec": {
   "display_name": "Python 3 (ipykernel)",
   "language": "python",
   "name": "python3"
  },
  "language_info": {
   "codemirror_mode": {
    "name": "ipython",
    "version": 3
   },
   "file_extension": ".py",
   "mimetype": "text/x-python",
   "name": "python",
   "nbconvert_exporter": "python",
   "pygments_lexer": "ipython3",
   "version": "3.9.12"
  },
  "varInspector": {
   "cols": {
    "lenName": 16,
    "lenType": 16,
    "lenVar": 40
   },
   "kernels_config": {
    "python": {
     "delete_cmd_postfix": "",
     "delete_cmd_prefix": "del ",
     "library": "var_list.py",
     "varRefreshCmd": "print(var_dic_list())"
    },
    "r": {
     "delete_cmd_postfix": ") ",
     "delete_cmd_prefix": "rm(",
     "library": "var_list.r",
     "varRefreshCmd": "cat(var_dic_list()) "
    }
   },
   "types_to_exclude": [
    "module",
    "function",
    "builtin_function_or_method",
    "instance",
    "_Feature"
   ],
   "window_display": false
  }
 },
 "nbformat": 4,
 "nbformat_minor": 5
}
