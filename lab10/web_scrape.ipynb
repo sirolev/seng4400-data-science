{
 "cells": [
  {
   "cell_type": "code",
   "execution_count": null,
   "id": "3203851c",
   "metadata": {},
   "outputs": [],
   "source": [
    "from bs4 import BeautifulSoup\n",
    "from urllib.request import urlopen\n",
    "import time"
   ]
  },
  {
   "cell_type": "markdown",
   "id": "3d3f66bb",
   "metadata": {},
   "source": [
    "# NOT FINISHED YET"
   ]
  },
  {
   "cell_type": "code",
   "execution_count": null,
   "id": "da2d4cbf",
   "metadata": {},
   "outputs": [],
   "source": [
    "def imdbFetchFilm(filmID):\n",
    "    \"\"\" returns list of nameID numbers like [\"nm0000291\", \"nm3363032\", ...] \"\"\"\n",
    "\n",
    "    url = \"https://www.imdb.com/title/\" + filmID + \"/fullcredits\"\n",
    "    print(\"Fetching URL: '\" + url + \"'\")\n",
    "    page = urlopen(url)\n",
    "    html = page.read().decode(\"utf-8\")\n",
    "    soup = BeautifulSoup(html, \"html.parser\")\n",
    "    # MANDATORY DELAY TO BE POLITE\n",
    "    time.sleep(1)\n",
    "    \n",
    "    castTable = soup.find_all(\"table\", \"cast_list\")[0]\n",
    "    #print(castTable)\n",
    "    \n",
    "    tdList = castTable.find_all(\"td\", \"primary_photo\")\n",
    "    #print(tdList)\n",
    "    nameIDs = []\n",
    "    for td in tdList:\n",
    "        #print(\"\\n\" + str(td) + \"\\n\")\n",
    "        aTag = td.find_all(\"a\")[0]\n",
    "        href = aTag.get('href')\n",
    "        nameID = href.strip(\"/\").split(\"/\")[1]\n",
    "        #print(nameID)\n",
    "        nameIDs.append(nameID)\n",
    "    return nameIDs\n",
    "\n",
    "nameIDs_blackPantherTwo = imdbFetchFilm(\"tt9114286\")\n",
    "print(nameIDs_blackPantherTwo)\n",
    "\n",
    "\n",
    "# https://www.imdb.com/name/nm4004793"
   ]
  }
 ],
 "metadata": {
  "kernelspec": {
   "display_name": "Python 3 (ipykernel)",
   "language": "python",
   "name": "python3"
  },
  "language_info": {
   "codemirror_mode": {
    "name": "ipython",
    "version": 3
   },
   "file_extension": ".py",
   "mimetype": "text/x-python",
   "name": "python",
   "nbconvert_exporter": "python",
   "pygments_lexer": "ipython3",
   "version": "3.9.12"
  },
  "varInspector": {
   "cols": {
    "lenName": 16,
    "lenType": 16,
    "lenVar": 40
   },
   "kernels_config": {
    "python": {
     "delete_cmd_postfix": "",
     "delete_cmd_prefix": "del ",
     "library": "var_list.py",
     "varRefreshCmd": "print(var_dic_list())"
    },
    "r": {
     "delete_cmd_postfix": ") ",
     "delete_cmd_prefix": "rm(",
     "library": "var_list.r",
     "varRefreshCmd": "cat(var_dic_list()) "
    }
   },
   "types_to_exclude": [
    "module",
    "function",
    "builtin_function_or_method",
    "instance",
    "_Feature"
   ],
   "window_display": false
  }
 },
 "nbformat": 4,
 "nbformat_minor": 5
}
