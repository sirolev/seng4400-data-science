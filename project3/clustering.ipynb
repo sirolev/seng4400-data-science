{
 "cells": [
  {
   "cell_type": "code",
   "execution_count": 1,
   "id": "340f56ba",
   "metadata": {},
   "outputs": [],
   "source": [
    "import numpy as np\n",
    "import pandas as pd\n",
    "import matplotlib.pyplot as plt"
   ]
  },
  {
   "cell_type": "code",
   "execution_count": null,
   "id": "7db46bb7",
   "metadata": {},
   "outputs": [],
   "source": []
  },
  {
   "cell_type": "code",
   "execution_count": null,
   "id": "a3f707c0",
   "metadata": {},
   "outputs": [],
   "source": [
    "# Building block functions:\n",
    "    \n",
    "def dist(x1, x2):\n",
    "    \"\"\" Return euclidean distance between x1 and x2 \"\"\"\n",
    "    # todo\n",
    "    pass\n",
    "def centroid(xList):\n",
    "    \"\"\" Compute centroid of multi-dimensional x data in xList \"\"\"\n",
    "    # TODO\n",
    "    pass\n",
    "def assignmentDiffers(yCurrent, yPrev):\n",
    "    \"\"\" Return True if yCurrent differs from yPrev \"\"\"\n",
    "    # TODO\n",
    "    pass\n",
    "# Let's use a class for our K-Means implementation\n",
    "class KMeans:\n",
    "    \"\"\" Perform k-means clustering \"\"\"\n",
    "    \n",
    "    def __init__(self, k=5):\n",
    "        self.k = k          # number of clusters\n",
    "        self.means = None   # means of clusters\n",
    "        \n",
    "    def classify(self, x):\n",
    "        \"\"\" Return the index of the cluster closest to the input \"\"\"\n",
    "        # TODO\n",
    "        pass\n",
    "    \n",
    "    def train(self, data):\n",
    "        \"\"\" Train model based on data \"\"\"\n",
    "        # TODO assign to self.means, one per cluster\n",
    "        pass\n",
    "def kmeans(x, k):\n",
    "    # Use it like this?\n",
    "    km = KMeans(k = 10)\n",
    "    km.train(x)\n",
    "    # can print out km.means to see the fit means\n",
    "    # can call km.classify([1,2,3,4]) to get cluster index\n",
    "    \n",
    "    #The function should return a list the length of x that contains\n",
    "    # the cluster number (1 - k) for the corresponding x point\n",
    "    # TODO determine return valu"
   ]
  },
  {
   "cell_type": "code",
   "execution_count": null,
   "id": "45b3bb3a",
   "metadata": {},
   "outputs": [],
   "source": []
  }
 ],
 "metadata": {
  "kernelspec": {
   "display_name": "Python 3 (ipykernel)",
   "language": "python",
   "name": "python3"
  },
  "language_info": {
   "codemirror_mode": {
    "name": "ipython",
    "version": 3
   },
   "file_extension": ".py",
   "mimetype": "text/x-python",
   "name": "python",
   "nbconvert_exporter": "python",
   "pygments_lexer": "ipython3",
   "version": "3.9.12"
  }
 },
 "nbformat": 4,
 "nbformat_minor": 5
}
